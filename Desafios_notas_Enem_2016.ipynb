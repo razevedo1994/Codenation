{
 "cells": [
  {
   "cell_type": "markdown",
   "metadata": {},
   "source": [
    "## Importando as bibliotecas necessárias e os conjuntos de dados. ##"
   ]
  },
  {
   "cell_type": "code",
   "execution_count": 1,
   "metadata": {},
   "outputs": [],
   "source": [
    "import pandas as pd\n",
    "import numpy as np\n",
    "import sklearn\n",
    "\n",
    "df_train = pd.read_csv('train.csv', sep = ',', encoding = 'UTF8' )\n",
    "df_test = pd.read_csv('test.csv', sep = ',', encoding = 'UTF8')"
   ]
  },
  {
   "cell_type": "markdown",
   "metadata": {},
   "source": [
    "## Verificando as colunas do conjunto de daddos df_test ##"
   ]
  },
  {
   "cell_type": "code",
   "execution_count": 2,
   "metadata": {},
   "outputs": [
    {
     "data": {
      "text/plain": [
       "Index(['NU_INSCRICAO', 'CO_UF_RESIDENCIA', 'SG_UF_RESIDENCIA', 'NU_IDADE',\n",
       "       'TP_SEXO', 'TP_COR_RACA', 'TP_NACIONALIDADE', 'TP_ST_CONCLUSAO',\n",
       "       'TP_ANO_CONCLUIU', 'TP_ESCOLA', 'TP_ENSINO', 'IN_TREINEIRO',\n",
       "       'TP_DEPENDENCIA_ADM_ESC', 'IN_BAIXA_VISAO', 'IN_CEGUEIRA', 'IN_SURDEZ',\n",
       "       'IN_DISLEXIA', 'IN_DISCALCULIA', 'IN_SABATISTA', 'IN_GESTANTE',\n",
       "       'IN_IDOSO', 'TP_PRESENCA_CN', 'TP_PRESENCA_CH', 'TP_PRESENCA_LC',\n",
       "       'CO_PROVA_CN', 'CO_PROVA_CH', 'CO_PROVA_LC', 'CO_PROVA_MT',\n",
       "       'NU_NOTA_CN', 'NU_NOTA_CH', 'NU_NOTA_LC', 'TP_LINGUA',\n",
       "       'TP_STATUS_REDACAO', 'NU_NOTA_COMP1', 'NU_NOTA_COMP2', 'NU_NOTA_COMP3',\n",
       "       'NU_NOTA_COMP4', 'NU_NOTA_COMP5', 'NU_NOTA_REDACAO', 'Q001', 'Q002',\n",
       "       'Q006', 'Q024', 'Q025', 'Q026', 'Q027', 'Q047'],\n",
       "      dtype='object')"
      ]
     },
     "execution_count": 2,
     "metadata": {},
     "output_type": "execute_result"
    }
   ],
   "source": [
    "df_test.columns"
   ]
  },
  {
   "cell_type": "markdown",
   "metadata": {},
   "source": [
    "## Verificando a correlação. ##"
   ]
  },
  {
   "cell_type": "code",
   "execution_count": 3,
   "metadata": {},
   "outputs": [
    {
     "data": {
      "text/html": [
       "<div>\n",
       "<style scoped>\n",
       "    .dataframe tbody tr th:only-of-type {\n",
       "        vertical-align: middle;\n",
       "    }\n",
       "\n",
       "    .dataframe tbody tr th {\n",
       "        vertical-align: top;\n",
       "    }\n",
       "\n",
       "    .dataframe thead th {\n",
       "        text-align: right;\n",
       "    }\n",
       "</style>\n",
       "<table border=\"1\" class=\"dataframe\">\n",
       "  <thead>\n",
       "    <tr style=\"text-align: right;\">\n",
       "      <th></th>\n",
       "      <th>Unnamed: 0</th>\n",
       "      <th>NU_ANO</th>\n",
       "      <th>CO_MUNICIPIO_RESIDENCIA</th>\n",
       "      <th>CO_UF_RESIDENCIA</th>\n",
       "      <th>NU_IDADE</th>\n",
       "      <th>TP_ESTADO_CIVIL</th>\n",
       "      <th>TP_COR_RACA</th>\n",
       "      <th>TP_NACIONALIDADE</th>\n",
       "      <th>CO_MUNICIPIO_NASCIMENTO</th>\n",
       "      <th>CO_UF_NASCIMENTO</th>\n",
       "      <th>...</th>\n",
       "      <th>Q032</th>\n",
       "      <th>Q033</th>\n",
       "      <th>Q034</th>\n",
       "      <th>Q035</th>\n",
       "      <th>Q036</th>\n",
       "      <th>Q037</th>\n",
       "      <th>Q038</th>\n",
       "      <th>Q039</th>\n",
       "      <th>Q040</th>\n",
       "      <th>Q041</th>\n",
       "    </tr>\n",
       "  </thead>\n",
       "  <tbody>\n",
       "    <tr>\n",
       "      <td>Unnamed: 0</td>\n",
       "      <td>1.00</td>\n",
       "      <td>NaN</td>\n",
       "      <td>-0.01</td>\n",
       "      <td>-0.01</td>\n",
       "      <td>-0.01</td>\n",
       "      <td>0.00</td>\n",
       "      <td>0.01</td>\n",
       "      <td>-0.01</td>\n",
       "      <td>-0.00</td>\n",
       "      <td>-0.00</td>\n",
       "      <td>...</td>\n",
       "      <td>0.00</td>\n",
       "      <td>0.02</td>\n",
       "      <td>0.00</td>\n",
       "      <td>-0.01</td>\n",
       "      <td>0.00</td>\n",
       "      <td>-0.00</td>\n",
       "      <td>0.00</td>\n",
       "      <td>0.00</td>\n",
       "      <td>-0.01</td>\n",
       "      <td>-0.03</td>\n",
       "    </tr>\n",
       "    <tr>\n",
       "      <td>NU_ANO</td>\n",
       "      <td>NaN</td>\n",
       "      <td>NaN</td>\n",
       "      <td>NaN</td>\n",
       "      <td>NaN</td>\n",
       "      <td>NaN</td>\n",
       "      <td>NaN</td>\n",
       "      <td>NaN</td>\n",
       "      <td>NaN</td>\n",
       "      <td>NaN</td>\n",
       "      <td>NaN</td>\n",
       "      <td>...</td>\n",
       "      <td>NaN</td>\n",
       "      <td>NaN</td>\n",
       "      <td>NaN</td>\n",
       "      <td>NaN</td>\n",
       "      <td>NaN</td>\n",
       "      <td>NaN</td>\n",
       "      <td>NaN</td>\n",
       "      <td>NaN</td>\n",
       "      <td>NaN</td>\n",
       "      <td>NaN</td>\n",
       "    </tr>\n",
       "    <tr>\n",
       "      <td>CO_MUNICIPIO_RESIDENCIA</td>\n",
       "      <td>-0.01</td>\n",
       "      <td>NaN</td>\n",
       "      <td>1.00</td>\n",
       "      <td>1.00</td>\n",
       "      <td>-0.00</td>\n",
       "      <td>0.02</td>\n",
       "      <td>-0.24</td>\n",
       "      <td>0.01</td>\n",
       "      <td>0.87</td>\n",
       "      <td>0.87</td>\n",
       "      <td>...</td>\n",
       "      <td>0.00</td>\n",
       "      <td>-0.03</td>\n",
       "      <td>-0.05</td>\n",
       "      <td>-0.05</td>\n",
       "      <td>-0.04</td>\n",
       "      <td>-0.01</td>\n",
       "      <td>-0.03</td>\n",
       "      <td>-0.09</td>\n",
       "      <td>-0.08</td>\n",
       "      <td>-0.03</td>\n",
       "    </tr>\n",
       "    <tr>\n",
       "      <td>CO_UF_RESIDENCIA</td>\n",
       "      <td>-0.01</td>\n",
       "      <td>NaN</td>\n",
       "      <td>1.00</td>\n",
       "      <td>1.00</td>\n",
       "      <td>-0.00</td>\n",
       "      <td>0.02</td>\n",
       "      <td>-0.23</td>\n",
       "      <td>0.01</td>\n",
       "      <td>0.86</td>\n",
       "      <td>0.86</td>\n",
       "      <td>...</td>\n",
       "      <td>0.00</td>\n",
       "      <td>-0.03</td>\n",
       "      <td>-0.05</td>\n",
       "      <td>-0.05</td>\n",
       "      <td>-0.04</td>\n",
       "      <td>-0.01</td>\n",
       "      <td>-0.03</td>\n",
       "      <td>-0.09</td>\n",
       "      <td>-0.08</td>\n",
       "      <td>-0.03</td>\n",
       "    </tr>\n",
       "    <tr>\n",
       "      <td>NU_IDADE</td>\n",
       "      <td>-0.01</td>\n",
       "      <td>NaN</td>\n",
       "      <td>-0.00</td>\n",
       "      <td>-0.00</td>\n",
       "      <td>1.00</td>\n",
       "      <td>0.53</td>\n",
       "      <td>0.01</td>\n",
       "      <td>-0.02</td>\n",
       "      <td>-0.03</td>\n",
       "      <td>-0.03</td>\n",
       "      <td>...</td>\n",
       "      <td>-0.04</td>\n",
       "      <td>0.03</td>\n",
       "      <td>-0.03</td>\n",
       "      <td>0.01</td>\n",
       "      <td>0.02</td>\n",
       "      <td>-0.00</td>\n",
       "      <td>-0.04</td>\n",
       "      <td>-0.07</td>\n",
       "      <td>-0.01</td>\n",
       "      <td>0.16</td>\n",
       "    </tr>\n",
       "    <tr>\n",
       "      <td>...</td>\n",
       "      <td>...</td>\n",
       "      <td>...</td>\n",
       "      <td>...</td>\n",
       "      <td>...</td>\n",
       "      <td>...</td>\n",
       "      <td>...</td>\n",
       "      <td>...</td>\n",
       "      <td>...</td>\n",
       "      <td>...</td>\n",
       "      <td>...</td>\n",
       "      <td>...</td>\n",
       "      <td>...</td>\n",
       "      <td>...</td>\n",
       "      <td>...</td>\n",
       "      <td>...</td>\n",
       "      <td>...</td>\n",
       "      <td>...</td>\n",
       "      <td>...</td>\n",
       "      <td>...</td>\n",
       "      <td>...</td>\n",
       "      <td>...</td>\n",
       "    </tr>\n",
       "    <tr>\n",
       "      <td>Q037</td>\n",
       "      <td>-0.00</td>\n",
       "      <td>NaN</td>\n",
       "      <td>-0.01</td>\n",
       "      <td>-0.01</td>\n",
       "      <td>-0.00</td>\n",
       "      <td>0.00</td>\n",
       "      <td>0.09</td>\n",
       "      <td>0.03</td>\n",
       "      <td>-0.02</td>\n",
       "      <td>-0.02</td>\n",
       "      <td>...</td>\n",
       "      <td>0.22</td>\n",
       "      <td>0.23</td>\n",
       "      <td>0.25</td>\n",
       "      <td>0.20</td>\n",
       "      <td>0.39</td>\n",
       "      <td>1.00</td>\n",
       "      <td>0.50</td>\n",
       "      <td>0.25</td>\n",
       "      <td>0.27</td>\n",
       "      <td>0.19</td>\n",
       "    </tr>\n",
       "    <tr>\n",
       "      <td>Q038</td>\n",
       "      <td>0.00</td>\n",
       "      <td>NaN</td>\n",
       "      <td>-0.03</td>\n",
       "      <td>-0.03</td>\n",
       "      <td>-0.04</td>\n",
       "      <td>-0.01</td>\n",
       "      <td>0.07</td>\n",
       "      <td>0.02</td>\n",
       "      <td>-0.04</td>\n",
       "      <td>-0.04</td>\n",
       "      <td>...</td>\n",
       "      <td>0.16</td>\n",
       "      <td>0.22</td>\n",
       "      <td>0.22</td>\n",
       "      <td>0.14</td>\n",
       "      <td>0.38</td>\n",
       "      <td>0.50</td>\n",
       "      <td>1.00</td>\n",
       "      <td>0.37</td>\n",
       "      <td>0.26</td>\n",
       "      <td>0.22</td>\n",
       "    </tr>\n",
       "    <tr>\n",
       "      <td>Q039</td>\n",
       "      <td>0.00</td>\n",
       "      <td>NaN</td>\n",
       "      <td>-0.09</td>\n",
       "      <td>-0.09</td>\n",
       "      <td>-0.07</td>\n",
       "      <td>-0.07</td>\n",
       "      <td>0.05</td>\n",
       "      <td>0.01</td>\n",
       "      <td>-0.10</td>\n",
       "      <td>-0.10</td>\n",
       "      <td>...</td>\n",
       "      <td>0.14</td>\n",
       "      <td>0.21</td>\n",
       "      <td>0.19</td>\n",
       "      <td>0.23</td>\n",
       "      <td>0.27</td>\n",
       "      <td>0.25</td>\n",
       "      <td>0.37</td>\n",
       "      <td>1.00</td>\n",
       "      <td>0.31</td>\n",
       "      <td>0.26</td>\n",
       "    </tr>\n",
       "    <tr>\n",
       "      <td>Q040</td>\n",
       "      <td>-0.01</td>\n",
       "      <td>NaN</td>\n",
       "      <td>-0.08</td>\n",
       "      <td>-0.08</td>\n",
       "      <td>-0.01</td>\n",
       "      <td>-0.02</td>\n",
       "      <td>0.05</td>\n",
       "      <td>0.01</td>\n",
       "      <td>-0.08</td>\n",
       "      <td>-0.08</td>\n",
       "      <td>...</td>\n",
       "      <td>0.22</td>\n",
       "      <td>0.18</td>\n",
       "      <td>0.24</td>\n",
       "      <td>0.18</td>\n",
       "      <td>0.18</td>\n",
       "      <td>0.27</td>\n",
       "      <td>0.26</td>\n",
       "      <td>0.31</td>\n",
       "      <td>1.00</td>\n",
       "      <td>0.31</td>\n",
       "    </tr>\n",
       "    <tr>\n",
       "      <td>Q041</td>\n",
       "      <td>-0.03</td>\n",
       "      <td>NaN</td>\n",
       "      <td>-0.03</td>\n",
       "      <td>-0.03</td>\n",
       "      <td>0.16</td>\n",
       "      <td>0.11</td>\n",
       "      <td>0.02</td>\n",
       "      <td>0.01</td>\n",
       "      <td>-0.04</td>\n",
       "      <td>-0.04</td>\n",
       "      <td>...</td>\n",
       "      <td>0.23</td>\n",
       "      <td>0.21</td>\n",
       "      <td>0.15</td>\n",
       "      <td>0.11</td>\n",
       "      <td>0.21</td>\n",
       "      <td>0.19</td>\n",
       "      <td>0.22</td>\n",
       "      <td>0.26</td>\n",
       "      <td>0.31</td>\n",
       "      <td>1.00</td>\n",
       "    </tr>\n",
       "  </tbody>\n",
       "</table>\n",
       "<p>107 rows × 107 columns</p>\n",
       "</div>"
      ],
      "text/plain": [
       "                         Unnamed: 0  NU_ANO  CO_MUNICIPIO_RESIDENCIA  \\\n",
       "Unnamed: 0                     1.00     NaN                    -0.01   \n",
       "NU_ANO                          NaN     NaN                      NaN   \n",
       "CO_MUNICIPIO_RESIDENCIA       -0.01     NaN                     1.00   \n",
       "CO_UF_RESIDENCIA              -0.01     NaN                     1.00   \n",
       "NU_IDADE                      -0.01     NaN                    -0.00   \n",
       "...                             ...     ...                      ...   \n",
       "Q037                          -0.00     NaN                    -0.01   \n",
       "Q038                           0.00     NaN                    -0.03   \n",
       "Q039                           0.00     NaN                    -0.09   \n",
       "Q040                          -0.01     NaN                    -0.08   \n",
       "Q041                          -0.03     NaN                    -0.03   \n",
       "\n",
       "                         CO_UF_RESIDENCIA  NU_IDADE  TP_ESTADO_CIVIL  \\\n",
       "Unnamed: 0                          -0.01     -0.01             0.00   \n",
       "NU_ANO                                NaN       NaN              NaN   \n",
       "CO_MUNICIPIO_RESIDENCIA              1.00     -0.00             0.02   \n",
       "CO_UF_RESIDENCIA                     1.00     -0.00             0.02   \n",
       "NU_IDADE                            -0.00      1.00             0.53   \n",
       "...                                   ...       ...              ...   \n",
       "Q037                                -0.01     -0.00             0.00   \n",
       "Q038                                -0.03     -0.04            -0.01   \n",
       "Q039                                -0.09     -0.07            -0.07   \n",
       "Q040                                -0.08     -0.01            -0.02   \n",
       "Q041                                -0.03      0.16             0.11   \n",
       "\n",
       "                         TP_COR_RACA  TP_NACIONALIDADE  \\\n",
       "Unnamed: 0                      0.01             -0.01   \n",
       "NU_ANO                           NaN               NaN   \n",
       "CO_MUNICIPIO_RESIDENCIA        -0.24              0.01   \n",
       "CO_UF_RESIDENCIA               -0.23              0.01   \n",
       "NU_IDADE                        0.01             -0.02   \n",
       "...                              ...               ...   \n",
       "Q037                            0.09              0.03   \n",
       "Q038                            0.07              0.02   \n",
       "Q039                            0.05              0.01   \n",
       "Q040                            0.05              0.01   \n",
       "Q041                            0.02              0.01   \n",
       "\n",
       "                         CO_MUNICIPIO_NASCIMENTO  CO_UF_NASCIMENTO  ...  Q032  \\\n",
       "Unnamed: 0                                 -0.00             -0.00  ...  0.00   \n",
       "NU_ANO                                       NaN               NaN  ...   NaN   \n",
       "CO_MUNICIPIO_RESIDENCIA                     0.87              0.87  ...  0.00   \n",
       "CO_UF_RESIDENCIA                            0.86              0.86  ...  0.00   \n",
       "NU_IDADE                                   -0.03             -0.03  ... -0.04   \n",
       "...                                          ...               ...  ...   ...   \n",
       "Q037                                       -0.02             -0.02  ...  0.22   \n",
       "Q038                                       -0.04             -0.04  ...  0.16   \n",
       "Q039                                       -0.10             -0.10  ...  0.14   \n",
       "Q040                                       -0.08             -0.08  ...  0.22   \n",
       "Q041                                       -0.04             -0.04  ...  0.23   \n",
       "\n",
       "                         Q033  Q034  Q035  Q036  Q037  Q038  Q039  Q040  Q041  \n",
       "Unnamed: 0               0.02  0.00 -0.01  0.00 -0.00  0.00  0.00 -0.01 -0.03  \n",
       "NU_ANO                    NaN   NaN   NaN   NaN   NaN   NaN   NaN   NaN   NaN  \n",
       "CO_MUNICIPIO_RESIDENCIA -0.03 -0.05 -0.05 -0.04 -0.01 -0.03 -0.09 -0.08 -0.03  \n",
       "CO_UF_RESIDENCIA        -0.03 -0.05 -0.05 -0.04 -0.01 -0.03 -0.09 -0.08 -0.03  \n",
       "NU_IDADE                 0.03 -0.03  0.01  0.02 -0.00 -0.04 -0.07 -0.01  0.16  \n",
       "...                       ...   ...   ...   ...   ...   ...   ...   ...   ...  \n",
       "Q037                     0.23  0.25  0.20  0.39  1.00  0.50  0.25  0.27  0.19  \n",
       "Q038                     0.22  0.22  0.14  0.38  0.50  1.00  0.37  0.26  0.22  \n",
       "Q039                     0.21  0.19  0.23  0.27  0.25  0.37  1.00  0.31  0.26  \n",
       "Q040                     0.18  0.24  0.18  0.18  0.27  0.26  0.31  1.00  0.31  \n",
       "Q041                     0.21  0.15  0.11  0.21  0.19  0.22  0.26  0.31  1.00  \n",
       "\n",
       "[107 rows x 107 columns]"
      ]
     },
     "execution_count": 3,
     "metadata": {},
     "output_type": "execute_result"
    }
   ],
   "source": [
    "df_train.corr().round(2)"
   ]
  },
  {
   "cell_type": "markdown",
   "metadata": {},
   "source": [
    "## Tratando as Tabelas. ##"
   ]
  },
  {
   "cell_type": "code",
   "execution_count": 14,
   "metadata": {},
   "outputs": [
    {
     "name": "stdout",
     "output_type": "stream",
     "text": [
      "\n",
      "Train and Test Datasets have the same columns?: True\n",
      "\n",
      "Variables not in test but in train :  set()\n"
     ]
    }
   ],
   "source": [
    "target = 'NU_NOTA_MT'\n",
    "print('\\nTrain and Test Datasets have the same columns?:',\n",
    "      df_train.drop(target,axis = 1).columns.tolist() == df_test.columns.tolist())\n",
    "print(\"\\nVariables not in test but in train : \", \n",
    "      set(df_train.drop(target,axis = 1).columns).difference(set(df_test.columns)))\n",
    "\n",
    "dif = list(set(df_train.drop(target,axis = 1).columns).difference(set(df_test.columns)))\n",
    "\n",
    "df_train.drop(dif,axis = 1,inplace = True)"
   ]
  },
  {
   "cell_type": "code",
   "execution_count": null,
   "metadata": {},
   "outputs": [],
   "source": []
  },
  {
   "cell_type": "code",
   "execution_count": 15,
   "metadata": {},
   "outputs": [],
   "source": [
    "from sklearn.ensemble import RandomForestRegressor"
   ]
  },
  {
   "cell_type": "code",
   "execution_count": 16,
   "metadata": {},
   "outputs": [],
   "source": [
    "modelo = RandomForestRegressor(n_estimators = 9000, n_jobs = -1, random_state = 0)"
   ]
  },
  {
   "cell_type": "code",
   "execution_count": 17,
   "metadata": {},
   "outputs": [],
   "source": [
    "variaveis = ['NU_NOTA_CN', 'NU_NOTA_LC', 'NU_NOTA_CH', 'NU_NOTA_REDACAO', 'NU_NOTA_COMP2', 'NU_NOTA_COMP3', 'NU_NOTA_COMP4', 'NU_NOTA_COMP5']"
   ]
  },
  {
   "cell_type": "code",
   "execution_count": 18,
   "metadata": {},
   "outputs": [],
   "source": [
    "X = df_train[variaveis]\n",
    "y = df_train['NU_NOTA_MT']"
   ]
  },
  {
   "cell_type": "code",
   "execution_count": 19,
   "metadata": {},
   "outputs": [],
   "source": [
    "X = X.fillna(-1)"
   ]
  },
  {
   "cell_type": "code",
   "execution_count": 20,
   "metadata": {},
   "outputs": [
    {
     "data": {
      "text/plain": [
       "0"
      ]
     },
     "execution_count": 20,
     "metadata": {},
     "output_type": "execute_result"
    }
   ],
   "source": [
    "df_train['NU_NOTA_MT'].isnull().sum()"
   ]
  },
  {
   "cell_type": "code",
   "execution_count": 21,
   "metadata": {},
   "outputs": [],
   "source": [
    "df_train[\"NU_NOTA_MT\"].fillna(-1, inplace = True)"
   ]
  },
  {
   "cell_type": "markdown",
   "metadata": {},
   "source": [
    "## Treinando o Modelo. ##"
   ]
  },
  {
   "cell_type": "code",
   "execution_count": 23,
   "metadata": {},
   "outputs": [
    {
     "data": {
      "text/plain": [
       "RandomForestRegressor(bootstrap=True, criterion='mse', max_depth=None,\n",
       "                      max_features='auto', max_leaf_nodes=None,\n",
       "                      min_impurity_decrease=0.0, min_impurity_split=None,\n",
       "                      min_samples_leaf=1, min_samples_split=2,\n",
       "                      min_weight_fraction_leaf=0.0, n_estimators=9000,\n",
       "                      n_jobs=-1, oob_score=False, random_state=0, verbose=0,\n",
       "                      warm_start=False)"
      ]
     },
     "execution_count": 23,
     "metadata": {},
     "output_type": "execute_result"
    }
   ],
   "source": [
    "modelo.fit(X,y)"
   ]
  },
  {
   "cell_type": "markdown",
   "metadata": {},
   "source": [
    "## Aplicando o modelo de teste. ##"
   ]
  },
  {
   "cell_type": "code",
   "execution_count": 24,
   "metadata": {},
   "outputs": [],
   "source": [
    "X_prev = df_test[variaveis]\n",
    "X_prev = X_prev.fillna(-1)"
   ]
  },
  {
   "cell_type": "code",
   "execution_count": 25,
   "metadata": {},
   "outputs": [
    {
     "data": {
      "text/html": [
       "<div>\n",
       "<style scoped>\n",
       "    .dataframe tbody tr th:only-of-type {\n",
       "        vertical-align: middle;\n",
       "    }\n",
       "\n",
       "    .dataframe tbody tr th {\n",
       "        vertical-align: top;\n",
       "    }\n",
       "\n",
       "    .dataframe thead th {\n",
       "        text-align: right;\n",
       "    }\n",
       "</style>\n",
       "<table border=\"1\" class=\"dataframe\">\n",
       "  <thead>\n",
       "    <tr style=\"text-align: right;\">\n",
       "      <th></th>\n",
       "      <th>NU_NOTA_CN</th>\n",
       "      <th>NU_NOTA_LC</th>\n",
       "      <th>NU_NOTA_CH</th>\n",
       "      <th>NU_NOTA_REDACAO</th>\n",
       "      <th>NU_NOTA_COMP2</th>\n",
       "      <th>NU_NOTA_COMP3</th>\n",
       "      <th>NU_NOTA_COMP4</th>\n",
       "      <th>NU_NOTA_COMP5</th>\n",
       "    </tr>\n",
       "  </thead>\n",
       "  <tbody>\n",
       "    <tr>\n",
       "      <td>0</td>\n",
       "      <td>464.8</td>\n",
       "      <td>431.8</td>\n",
       "      <td>443.5</td>\n",
       "      <td>420.0</td>\n",
       "      <td>80.0</td>\n",
       "      <td>80.0</td>\n",
       "      <td>100.0</td>\n",
       "      <td>40.0</td>\n",
       "    </tr>\n",
       "    <tr>\n",
       "      <td>1</td>\n",
       "      <td>391.1</td>\n",
       "      <td>548.0</td>\n",
       "      <td>491.1</td>\n",
       "      <td>580.0</td>\n",
       "      <td>120.0</td>\n",
       "      <td>120.0</td>\n",
       "      <td>120.0</td>\n",
       "      <td>100.0</td>\n",
       "    </tr>\n",
       "    <tr>\n",
       "      <td>2</td>\n",
       "      <td>595.9</td>\n",
       "      <td>613.6</td>\n",
       "      <td>622.7</td>\n",
       "      <td>320.0</td>\n",
       "      <td>40.0</td>\n",
       "      <td>40.0</td>\n",
       "      <td>80.0</td>\n",
       "      <td>80.0</td>\n",
       "    </tr>\n",
       "    <tr>\n",
       "      <td>3</td>\n",
       "      <td>-1.0</td>\n",
       "      <td>-1.0</td>\n",
       "      <td>-1.0</td>\n",
       "      <td>-1.0</td>\n",
       "      <td>-1.0</td>\n",
       "      <td>-1.0</td>\n",
       "      <td>-1.0</td>\n",
       "      <td>-1.0</td>\n",
       "    </tr>\n",
       "    <tr>\n",
       "      <td>4</td>\n",
       "      <td>592.9</td>\n",
       "      <td>571.4</td>\n",
       "      <td>492.6</td>\n",
       "      <td>320.0</td>\n",
       "      <td>80.0</td>\n",
       "      <td>60.0</td>\n",
       "      <td>80.0</td>\n",
       "      <td>0.0</td>\n",
       "    </tr>\n",
       "  </tbody>\n",
       "</table>\n",
       "</div>"
      ],
      "text/plain": [
       "   NU_NOTA_CN  NU_NOTA_LC  NU_NOTA_CH  NU_NOTA_REDACAO  NU_NOTA_COMP2  \\\n",
       "0       464.8       431.8       443.5            420.0           80.0   \n",
       "1       391.1       548.0       491.1            580.0          120.0   \n",
       "2       595.9       613.6       622.7            320.0           40.0   \n",
       "3        -1.0        -1.0        -1.0             -1.0           -1.0   \n",
       "4       592.9       571.4       492.6            320.0           80.0   \n",
       "\n",
       "   NU_NOTA_COMP3  NU_NOTA_COMP4  NU_NOTA_COMP5  \n",
       "0           80.0          100.0           40.0  \n",
       "1          120.0          120.0          100.0  \n",
       "2           40.0           80.0           80.0  \n",
       "3           -1.0           -1.0           -1.0  \n",
       "4           60.0           80.0            0.0  "
      ]
     },
     "execution_count": 25,
     "metadata": {},
     "output_type": "execute_result"
    }
   ],
   "source": [
    "X_prev.head()"
   ]
  },
  {
   "cell_type": "code",
   "execution_count": 27,
   "metadata": {},
   "outputs": [
    {
     "data": {
      "text/plain": [
       "array([423.47943333, 439.60361111, 590.36241111, ..., 682.02586667,\n",
       "       483.67744444,  -1.        ])"
      ]
     },
     "execution_count": 27,
     "metadata": {},
     "output_type": "execute_result"
    }
   ],
   "source": [
    "m = modelo.predict(X_prev)\n",
    "m"
   ]
  },
  {
   "cell_type": "code",
   "execution_count": 29,
   "metadata": {},
   "outputs": [
    {
     "data": {
      "text/plain": [
       "(4576,)"
      ]
     },
     "execution_count": 29,
     "metadata": {},
     "output_type": "execute_result"
    }
   ],
   "source": [
    "sub = pd.Series(m, index = df_test['NU_INSCRICAO'], name = 'NU_NOTA_MT')\n",
    "sub.shape"
   ]
  },
  {
   "cell_type": "code",
   "execution_count": 31,
   "metadata": {},
   "outputs": [],
   "source": [
    "sub.to_csv(\"answer.csv\", header = True)"
   ]
  },
  {
   "cell_type": "code",
   "execution_count": null,
   "metadata": {},
   "outputs": [],
   "source": []
  }
 ],
 "metadata": {
  "kernelspec": {
   "display_name": "Python 3.7.4 64-bit ('base': conda)",
   "language": "python",
   "name": "python37464bitbaseconda55e5508123a747beb2b69c06e9643749"
  },
  "language_info": {
   "codemirror_mode": {
    "name": "ipython",
    "version": 3
   },
   "file_extension": ".py",
   "mimetype": "text/x-python",
   "name": "python",
   "nbconvert_exporter": "python",
   "pygments_lexer": "ipython3",
   "version": "3.7.4"
  }
 },
 "nbformat": 4,
 "nbformat_minor": 2
}
